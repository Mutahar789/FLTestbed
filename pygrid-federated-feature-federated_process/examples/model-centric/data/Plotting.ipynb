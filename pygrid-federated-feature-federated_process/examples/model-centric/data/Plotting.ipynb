{
 "cells": [
  {
   "cell_type": "code",
   "execution_count": null,
   "metadata": {},
   "outputs": [],
   "source": [
    "import numpy as np\n",
    "import matplotlib.pyplot as plt\n",
    "import pandas as pd\n",
    "import seaborn as sns"
   ]
  },
  {
   "cell_type": "markdown",
   "metadata": {},
   "source": [
    "# Device Characteristics"
   ]
  },
  {
   "cell_type": "code",
   "execution_count": null,
   "metadata": {
    "scrolled": false
   },
   "outputs": [],
   "source": [
    "device_char = pd.read_csv('./device_char.csv')\n",
    "display(device_char)"
   ]
  },
  {
   "cell_type": "markdown",
   "metadata": {},
   "source": [
    "# 0. Accuracy"
   ]
  },
  {
   "cell_type": "code",
   "execution_count": null,
   "metadata": {},
   "outputs": [],
   "source": [
    "df = pd.read_csv(\"./metrics_stat_testbed.csv\")\n",
    "accuracies = []\n",
    "rounds = []\n",
    "for i in range(60):\n",
    "    rows = df[i*4:i*4+4]\n",
    "    acc = np.mean(rows['accuracy'])\n",
    "    accuracies.append(acc)\n",
    "    rounds.append(i)\n",
    "    \n",
    "ax = plt.figure(figsize=(8, 6), dpi=80)\n",
    "ax = plt.plot(rounds, accuracies)\n",
    "ax = plt.xlabel(\"round\")\n",
    "ax = plt.ylabel(\"accuracy\")"
   ]
  },
  {
   "cell_type": "markdown",
   "metadata": {},
   "source": [
    "# 1. Training time"
   ]
  },
  {
   "cell_type": "markdown",
   "metadata": {},
   "source": [
    "### 1.1 Average Training time"
   ]
  },
  {
   "cell_type": "code",
   "execution_count": null,
   "metadata": {},
   "outputs": [],
   "source": [
    "df = pd.read_csv(\"./metrics_stat_testbed.csv\")\n",
    "device_ids = df[\"client_id\"].unique()"
   ]
  },
  {
   "cell_type": "code",
   "execution_count": null,
   "metadata": {},
   "outputs": [],
   "source": [
    "device_ids"
   ]
  },
  {
   "cell_type": "code",
   "execution_count": null,
   "metadata": {},
   "outputs": [],
   "source": [
    "devices = ['Nexus 5x', 'Nexus 6P', \"Nokia 1\", \"Nexus 5\"]\n",
    "devices"
   ]
  },
  {
   "cell_type": "code",
   "execution_count": null,
   "metadata": {},
   "outputs": [],
   "source": [
    "avg_train_time = {}\n",
    "device_data = {}\n",
    "for device in device_ids:\n",
    "    data = df[df[\"client_id\"] == device]\n",
    "    device_id = data.iloc[0][\"client_id\"]\n",
    "    if device_id == \"29810585-de37-4bee-888e-6d7f453c04a6_1\":\n",
    "        device_data[\"Nexus 5x\"] = data[\"total_train_time\"]/60000\n",
    "        \n",
    "    elif device_id == \"c2515b04-a8a3-413c-b973-3685cab84c06_1\":\n",
    "        device_data[\"Nexus 6P\"] = data[\"total_train_time\"]/60000\n",
    "        \n",
    "    elif device_id == \"e127265f-912b-4b35-bcee-d89bdba012b3_1\":\n",
    "        device_data[\"Nokia 1\"] = data[\"total_train_time\"]/60000\n",
    "        \n",
    "    elif device_id == \"a6320ea7-31ca-4ed8-9c54-cf4632a9a074_1\":\n",
    "        device_data[\"Nexus 5\"] = data[\"total_train_time\"]/60000\n",
    "\n",
    "for device in devices:\n",
    "    avg_train_time[device] = device_data[device].mean()\n",
    "    \n",
    "ax = sns.barplot(x=list(avg_train_time.keys()), y=list(avg_train_time.values()))\n",
    "ax.set_ylabel(\"Training time per round (minutes)\")\n",
    "ax.set_xlabel(\"Device\")"
   ]
  },
  {
   "cell_type": "markdown",
   "metadata": {},
   "source": [
    "### 1.2 Confidence Intervals"
   ]
  },
  {
   "cell_type": "code",
   "execution_count": null,
   "metadata": {},
   "outputs": [],
   "source": [
    "# z=1.96 for 95% confidence intervals\n",
    "def plot_confidence_interval(x, values, z=1.96, color='#2187bb', horizontal_line_width=0.2):\n",
    "    mean = statistics.mean(values)\n",
    "    stdev = statistics.stdev(values)\n",
    "    confidence_interval = z * stdev / sqrt(len(values))\n",
    "\n",
    "    left = x - horizontal_line_width / 2\n",
    "    top = mean - confidence_interval\n",
    "    right = x + horizontal_line_width / 2\n",
    "    bottom = mean + confidence_interval\n",
    "    plt.plot([x, x], [top, bottom], color=color)\n",
    "    plt.plot([left, right], [top, top], color=color)\n",
    "    plt.plot([left, right], [bottom, bottom], color=color)\n",
    "    plt.plot(x, mean, 'o', color='#f44336')\n",
    "\n",
    "    return mean, confidence_interval"
   ]
  },
  {
   "cell_type": "code",
   "execution_count": null,
   "metadata": {},
   "outputs": [],
   "source": [
    "import matplotlib\n",
    "import statistics\n",
    "from math import sqrt\n",
    "\n",
    "matplotlib.rcParams.update({'font.size': 14})\n",
    "plt.xticks([1, 2, 3, 4], devices)\n",
    "for i, device in enumerate(devices):\n",
    "    plot_confidence_interval(i+1, device_data[device])\n",
    "\n",
    "plt.title('95% Confidence Interval of average per round training time')\n",
    "plt.xlabel('Device')\n",
    "plt.ylabel('time')\n",
    "plt.show()"
   ]
  },
  {
   "cell_type": "code",
   "execution_count": null,
   "metadata": {},
   "outputs": [],
   "source": [
    "matplotlib.rcParams.update({'font.size': 14})\n",
    "plt.xticks([1, 2], devices[:2])\n",
    "for i, device in enumerate(devices[:2]):\n",
    "    plot_confidence_interval(i+1, device_data[device])"
   ]
  },
  {
   "cell_type": "code",
   "execution_count": null,
   "metadata": {},
   "outputs": [],
   "source": [
    "for device in devices:\n",
    "    std = np.std(device_data[device])\n",
    "    print(f'std for {device} = {std}')"
   ]
  },
  {
   "cell_type": "markdown",
   "metadata": {},
   "source": [
    "# 2. Memory Profile"
   ]
  },
  {
   "cell_type": "markdown",
   "metadata": {},
   "source": [
    "### 2.1 Time series"
   ]
  },
  {
   "cell_type": "code",
   "execution_count": null,
   "metadata": {
    "scrolled": false
   },
   "outputs": [],
   "source": [
    "memory_info = {}\n",
    "for device in [\"Nexus 5x\", \"Nexus 6P\", \"Nexus 5\"]: # ADD \"Nokia 1\"\n",
    "    file = f'./Expt/{device}_memLog.csv'\n",
    "    memory_info[device] = pd.read_csv(file)\n",
    "\n",
    "def plot(to_plot):\n",
    "    for device in list(memory_info.keys()):\n",
    "        data = memory_info[device][to_plot].to_numpy()\n",
    "        sns.lineplot(data=data, label=device)\n",
    "        plt.ylabel(to_plot)\n",
    "    plt.show()\n",
    "\n",
    "plot(\"Active_Memory(MB)\")\n",
    "plot(\"org.openmined.syft.demo_pss(MB)\")\n",
    "plot(\"Cached_Memory(MB)\")\n",
    "plot(\"Free_Memory(MB)\")\n",
    "plot(\"pressure_pss(MB)\")\n",
    "plot(\"SwapCached_Memory(MB)\")"
   ]
  },
  {
   "cell_type": "markdown",
   "metadata": {},
   "source": [
    "### 2.2 Average"
   ]
  },
  {
   "cell_type": "code",
   "execution_count": null,
   "metadata": {},
   "outputs": [],
   "source": [
    "# Average active memory for all devices\n",
    "# Average cached memory for all devices\n",
    "# Average free memory for all devices"
   ]
  },
  {
   "cell_type": "markdown",
   "metadata": {},
   "source": [
    "# 3. CPU Profile"
   ]
  },
  {
   "cell_type": "code",
   "execution_count": null,
   "metadata": {},
   "outputs": [],
   "source": [
    "def calculate_cpu_percentage(prev_total, prev_idle, total, idle):\n",
    "    diff_idle = idle - prev_idle\n",
    "    diff_total = total - prev_total\n",
    "    cpu_used = diff_total-diff_idle\n",
    "    cpu_usage = (cpu_used/diff_total)*100\n",
    "    return cpu_usage"
   ]
  },
  {
   "cell_type": "code",
   "execution_count": null,
   "metadata": {},
   "outputs": [],
   "source": [
    "cpu_data = {}\n",
    "for device in devices:\n",
    "    file = open(f'./{device}_cpu_profile.txt', 'r')\n",
    "    text = file.read()\n",
    "    stat_arr = text.split(\"###\")\n",
    "    \n",
    "    cpu_percentages = {}\n",
    "    prev_total = {}\n",
    "    prev_idle = {}\n",
    "\n",
    "    for stat in stat_arr:\n",
    "        lines = stat.split('\\n')\n",
    "        for line in lines:\n",
    "            if line.startswith('cpu'):\n",
    "                cpu_info = line.split()\n",
    "                total = int(cpu_info[1]) + int(cpu_info[2]) + int(cpu_info[3]) + int(cpu_info[4]) + int(cpu_info[5]) + int(cpu_info[6]) + int(cpu_info[7])\n",
    "                idle = int(cpu_info[4])\n",
    "                if line[3] != \" \":\n",
    "                    key = f\"core {line[3]}\"\n",
    "                else:\n",
    "                    key = \"average\"\n",
    "\n",
    "                if cpu_percentages.get(key, None) == None:\n",
    "                    cpu_percentages[key] = []\n",
    "                    prev_total[key] = [total]\n",
    "                    prev_idle[key] = [idle]\n",
    "\n",
    "                else:\n",
    "                    value = calculate_cpu_percentage(prev_total[key][-1], prev_idle[key][-1], total, idle)\n",
    "                    cpu_percentages[key].append(value)\n",
    "                    prev_total[key].append(total)\n",
    "                    prev_idle[key].append(idle)\n",
    "                    \n",
    "    cpu_data[device] = pd.DataFrame.from_dict(cpu_percentages)"
   ]
  },
  {
   "cell_type": "markdown",
   "metadata": {},
   "source": [
    "### 3.1 Time Series"
   ]
  },
  {
   "cell_type": "code",
   "execution_count": null,
   "metadata": {},
   "outputs": [],
   "source": [
    "for device in devices:\n",
    "    print(f\"{device}:\")\n",
    "    df = cpu_data[device]\n",
    "    for col in df.columns:\n",
    "        sns.lineplot(df[col], label=col)\n",
    "    plt.legend(bbox_to_anchor=(1.05, 1), loc='upper left', borderaxespad=0)\n",
    "    plt.show()"
   ]
  },
  {
   "cell_type": "markdown",
   "metadata": {},
   "source": [
    "### 3.2 Average per core cpu usage"
   ]
  },
  {
   "cell_type": "code",
   "execution_count": null,
   "metadata": {
    "scrolled": false
   },
   "outputs": [],
   "source": [
    "for device in devices:\n",
    "    print(f\"{device}:\")\n",
    "    df = cpu_data[device]\n",
    "    avg_core_usage = {}\n",
    "    for col in df.columns:\n",
    "        if col != \"average\":\n",
    "            avg_core_usage[col] = np.mean(df[col])\n",
    "    plt.figure(figsize=(8,6))\n",
    "    sns.barplot(x=list(avg_core_usage.keys()), y=list(avg_core_usage.values()))\n",
    "    plt.ylabel(\"percentage (%)\")\n",
    "    plt.show()"
   ]
  },
  {
   "cell_type": "markdown",
   "metadata": {},
   "source": [
    "### 3.3 Average CPU usage"
   ]
  },
  {
   "cell_type": "code",
   "execution_count": null,
   "metadata": {},
   "outputs": [],
   "source": [
    "avg_cpu_usage = {}\n",
    "for device in devices:\n",
    "    df = cpu_data[device]\n",
    "    avg_cpu_usage[device] = np.mean(df[\"average\"])\n",
    "\n",
    "plt.figure(figsize=(8,6))\n",
    "sns.barplot(x=list(avg_cpu_usage.keys()), y=list(avg_cpu_usage.values()))\n",
    "plt.ylabel(\"percentage (%)\")\n",
    "plt.show()"
   ]
  },
  {
   "cell_type": "code",
   "execution_count": null,
   "metadata": {},
   "outputs": [],
   "source": []
  }
 ],
 "metadata": {
  "kernelspec": {
   "display_name": "Python 3",
   "language": "python",
   "name": "python3"
  },
  "language_info": {
   "codemirror_mode": {
    "name": "ipython",
    "version": 3
   },
   "file_extension": ".py",
   "mimetype": "text/x-python",
   "name": "python",
   "nbconvert_exporter": "python",
   "pygments_lexer": "ipython3",
   "version": "3.8.10"
  }
 },
 "nbformat": 4,
 "nbformat_minor": 4
}
