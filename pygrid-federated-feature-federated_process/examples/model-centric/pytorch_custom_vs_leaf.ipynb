{
 "cells": [
  {
   "cell_type": "code",
   "execution_count": 1,
   "metadata": {
    "id": "h6g9Gagadj-K"
   },
   "outputs": [],
   "source": [
    "import json\n",
    "import numpy as np\n",
    "import matplotlib.pyplot as plt\n",
    "import math\n",
    "from scipy.optimize import curve_fit\n",
    "import pandas as pd\n",
    "import re\n",
    "import os\n",
    "# import torchvision"
   ]
  },
  {
   "cell_type": "code",
   "execution_count": 3,
   "metadata": {
    "id": "NvZUzOP0dpcZ"
   },
   "outputs": [],
   "source": [
    "import torch as th\n",
    "from torch import nn\n",
    "from torch.autograd import Variable\n",
    "import pandas as pd"
   ]
  },
  {
   "cell_type": "code",
   "execution_count": 9,
   "metadata": {},
   "outputs": [],
   "source": [
    "metrics_testbed = pd.read_csv('data/metrics_stat_testbed_6m_4c.csv')\n",
    "metrics_testbed_fast = metrics_testbed.loc[metrics_testbed['is_slow'] == 0]\n",
    "metrics_testbed_slow = metrics_testbed.loc[metrics_testbed['is_slow'] == 1]\n",
    "\n",
    "\n",
    "metrics_testbed_pruned = pd.read_csv('data/metrics_stat_testbed_6m_4c_pruned.csv')\n",
    "metrics_testbed_pruned_slow = metrics_testbed_pruned.loc[metrics_testbed_pruned['is_slow'] == 1]"
   ]
  },
  {
   "cell_type": "code",
   "execution_count": 11,
   "metadata": {},
   "outputs": [
    {
     "name": "stdout",
     "output_type": "stream",
     "text": [
      "fast_time_orig: 589551.15 time_orig:  1987835.35 time_pruned:  693834.35\n"
     ]
    }
   ],
   "source": [
    "fast_time_orig = np.mean(metrics_testbed_fast['total_train_time'])\n",
    "time_orig = np.mean(metrics_testbed_slow['total_train_time'])\n",
    "time_pruned = np.mean(metrics_testbed_pruned_slow['total_train_time'])\n",
    "\n",
    "print(\"fast_time_orig:\", fast_time_orig,\"time_orig: \", time_orig, \"time_pruned: \", time_pruned)"
   ]
  },
  {
   "cell_type": "code",
   "execution_count": 97,
   "metadata": {},
   "outputs": [],
   "source": [
    "conv1 = nn.Conv2d(1, 16, kernel_size=5, stride=1,padding=0)  ##output shape (batch, 32, 28, 28)self.pool1 = nn.MaxPool2d(2, stride=2) ## output shape (batch, 32, 14, 14)\n",
    "pool1 = nn.MaxPool2d(2, stride=2)  ## output shape (batch, 64, 7, 7)\n",
    "\n",
    "conv2 = nn.Conv2d(16, 32, kernel_size=5, stride=1, padding=0)  ##output shape (batch, 64, 14, 14)\n",
    "pool2 = nn.MaxPool2d(2, stride=2)  ## output shape (batch, 64, 7, 7)\n",
    "\n",
    "fc1 = nn.Linear(2592, 1024)  ##input of [BatchSize, 3136]. output of [BatchSize, 2048]\n",
    "fc2 = nn.Linear(1024, 62)  ##input of [BatchSize, 2048]. output of [BatchSize, 62]\n"
   ]
  },
  {
   "cell_type": "code",
   "execution_count": 98,
   "metadata": {
    "id": "rJiLoFhrd8GR"
   },
   "outputs": [],
   "source": [
    "# trainFile = '/content/drive/My Drive/leaf/data/femnist/data/train/users/f0016_39.json'\n",
    "trainFile = './slow_client_train_500.json'#'/content/drive/My Drive/leaf/data/femnist/data/train/users/sample.json'\n",
    "testFile = './slow_client_test_150.json'#'/content/drive/My Drive/leaf/data/femnist/data/test/users/sample_test.json'\n",
    "# testFile = '/content/drive/My Drive/leaf/data/femnist/data/test/users/f0016_39.json'\n",
    "\n",
    "femnistUser = {}\n",
    "with open(trainFile, 'r') as f:\n",
    "  femnistUser = json.load(f)\n",
    "\n",
    "femnistUser_test = {}\n",
    "with open(testFile, 'r') as f:\n",
    "  femnistUser_test = json.load(f) \n"
   ]
  },
  {
   "cell_type": "code",
   "execution_count": 99,
   "metadata": {
    "id": "toILU5PFdsby"
   },
   "outputs": [],
   "source": [
    "dataX = np.array(femnistUser['x'])\n",
    "dataY = np.array(femnistUser['y'])\n",
    "\n",
    "dataX_test = np.array(femnistUser_test['x'])\n",
    "dataY_test = np.array(femnistUser_test['y'])\n",
    "\n",
    "# for i in range(len(dataY)):\n",
    "#   dataY[i] = dataY[i] % 5#"
   ]
  },
  {
   "cell_type": "code",
   "execution_count": 100,
   "metadata": {},
   "outputs": [
    {
     "name": "stdout",
     "output_type": "stream",
     "text": [
      "torch.Size([1, 16, 12, 12])\n"
     ]
    }
   ],
   "source": [
    "train_X = th.tensor((dataX), dtype=th.float)\n",
    "x = train_X[:1].view(-1, 1, 28, 28)\n",
    "\n",
    "x = conv1(x)\n",
    "x = th.nn.functional.relu(x)\n",
    "x = pool1(x)\n",
    "print(x.shape)"
   ]
  },
  {
   "cell_type": "code",
   "execution_count": 68,
   "metadata": {
    "id": "HZUdfZRHd3gQ"
   },
   "outputs": [],
   "source": [
    "# def cross_entropy_with_logits(log_logits, targets, batch_size):\n",
    "#     eps = 1e-7\n",
    "#     return -(targets * th.log(log_logits + eps)).sum() / batch_size\n",
    "\n",
    "def softmax_cross_entropy_with_logits(logits, targets, batch_size):\n",
    "    \"\"\" Calculates softmax entropy\n",
    "        Args:\n",
    "            * logits: (NxC) outputs of dense layer\n",
    "            * targets: (NxC) one-hot encoded labels\n",
    "            * batch_size: value of N, temporarily required because Plan cannot trace .shape\n",
    "    \"\"\"\n",
    "    # numstable logsoftmax\n",
    "    norm_logits = logits - logits.max(dim = 1, keepdim = True)[0]\n",
    "\n",
    "    log_probs = norm_logits - norm_logits.exp().sum(dim=1, keepdim=True).log()\n",
    "    \n",
    "    # NLL, reduction = mean\n",
    "    return -(targets * log_probs).sum() / batch_size"
   ]
  },
  {
   "cell_type": "code",
   "execution_count": 69,
   "metadata": {
    "id": "3T0PbM3GeLqT"
   },
   "outputs": [],
   "source": [
    "def naive_sgd(param, **kwargs):\n",
    "  return param - kwargs['lr'] * param.grad"
   ]
  },
  {
   "cell_type": "code",
   "execution_count": 70,
   "metadata": {
    "id": "QWV3hrIYeNYu"
   },
   "outputs": [],
   "source": [
    "def set_model_params(module, params_list, start_param_idx=0):\n",
    "    \"\"\" Set params list into model recursively\n",
    "    \"\"\"\n",
    "    param_idx = start_param_idx\n",
    "\n",
    "    for name, param in module._parameters.items():\n",
    "        module._parameters[name] = Variable(params_list[param_idx], requires_grad=True)\n",
    "        param_idx += 1\n",
    "\n",
    "    for name, child in module._modules.items():\n",
    "        if child is not None:\n",
    "            param_idx = set_model_params(child, params_list, param_idx)\n",
    "\n",
    "    return param_idx"
   ]
  },
  {
   "cell_type": "code",
   "execution_count": 71,
   "metadata": {
    "id": "CTFI1G2TeOln"
   },
   "outputs": [],
   "source": [
    "def convert_to_one_hot_plan(input_data, classes=5):\n",
    "    one_hot_labels = nn.functional.one_hot(input_data, classes)\n",
    "    return one_hot_labels"
   ]
  },
  {
   "cell_type": "code",
   "execution_count": 85,
   "metadata": {},
   "outputs": [],
   "source": [
    "class FemnistNet(nn.Module):\n",
    "    def __init__(self):\n",
    "        super(FemnistNet, self).__init__()\n",
    "        self.conv1 = nn.Conv2d(1, 32, kernel_size=5, stride=1, padding=2) ##output shape (batch, 32, 28, 28)\n",
    "        self.pool1 = nn.MaxPool2d(2, stride=2, ) ## output shape (batch, 32, 14, 14)\n",
    "\n",
    "        self.conv2 = nn.Conv2d(32, 64, kernel_size=5, stride=1, padding=2) ##output shape (batch, 64, 14, 14)\n",
    "        self.pool2 = nn.MaxPool2d(2, stride=2) ## output shape (batch, 64, 7, 7)\n",
    "\n",
    "        self.fc1 = nn.Linear(3136, 2048)\n",
    "        self.fc2 = nn.Linear(2048 ,62)\n",
    "\n",
    "    def forward(self, x):\n",
    "        x = x.view(-1, 1, 28, 28)\n",
    "        x = self.conv1(x)\n",
    "        x = th.nn.functional.relu(x)\n",
    "        x = self.pool1(x)\n",
    "\n",
    "        x=self.conv2(x)\n",
    "        x = th.nn.functional.relu(x)\n",
    "        x = self.pool2(x)\n",
    "\n",
    "        x = x.flatten(start_dim=1)\n",
    "\n",
    "        x = self.fc1(x)\n",
    "        l1_activations = th.nn.functional.relu(x)\n",
    "\n",
    "        x = self.fc2(l1_activations)\n",
    "\n",
    "        return x, l1_activations"
   ]
  },
  {
   "cell_type": "code",
   "execution_count": 73,
   "metadata": {},
   "outputs": [],
   "source": [
    "class FemnistNetSmall(nn.Module):\n",
    "    def __init__(self):\n",
    "        super(FemnistNetSmall, self).__init__()\n",
    "        self.conv1 = nn.Conv2d(1, 16, kernel_size=5, stride=1, padding=2) ##output shape (batch, 32, 28, 28)self.pool1 = nn.MaxPool2d(2, stride=2) ## output shape (batch, 32, 14, 14)\n",
    "        \n",
    "        self.conv2 = nn.Conv2d(16, 32, kernel_size=5, stride=1, padding=2) ##output shape (batch, 64, 14, 14)\n",
    "        self.pool2 = nn.MaxPool2d(2, stride=2) ## output shape (batch, 64, 7, 7)\n",
    "        \n",
    "        self.fc1 = nn.Linear(1568, 1024) ##input of [BatchSize, 3136]. output of [BatchSize, 2048]\n",
    "        self.fc2 = nn.Linear(1024 ,62) ##input of [BatchSize, 2048]. output of [BatchSize, 62]\n",
    "\n",
    "    def forward(self, x):\n",
    "        x = x.view(-1, 1, 28, 28)\n",
    "        x = self.conv1(x)\n",
    "        x = th.nn.functional.relu(x)\n",
    "\n",
    "        x = self.pool1(x)\n",
    "\n",
    "        x=self.conv2(x)\n",
    "        x = th.nn.functional.relu(x)\n",
    "        \n",
    "        x = self.pool2(x)\n",
    "        \n",
    "        x = x.flatten(start_dim=1)\n",
    "        \n",
    "        x = self.fc1(x)\n",
    "        l1_activations = th.nn.functional.relu(x)\n",
    "        \n",
    "        x = self.fc2(l1_activations)\n",
    "\n",
    "        return x, l1_activations"
   ]
  },
  {
   "cell_type": "code",
   "execution_count": null,
   "metadata": {},
   "outputs": [],
   "source": []
  },
  {
   "cell_type": "code",
   "execution_count": 86,
   "metadata": {},
   "outputs": [],
   "source": [
    "seed = 1549775860\n",
    "th.random.manual_seed(seed)\n",
    "th.manual_seed(seed)\n",
    "model = FemnistNet()\n",
    "modelParams = [param.data for param in model.parameters()] "
   ]
  },
  {
   "cell_type": "code",
   "execution_count": 75,
   "metadata": {},
   "outputs": [],
   "source": [
    "# weights = np.load('weights_for_round_215.npy',allow_pickle=True)\n",
    "seed = 1549775860\n",
    "th.random.manual_seed(seed)\n",
    "th.manual_seed(seed)\n",
    "model_small = FemnistNetSmall() ##model\n",
    "model_params_small = [param.data for param in model_small.parameters()]"
   ]
  },
  {
   "cell_type": "code",
   "execution_count": 76,
   "metadata": {},
   "outputs": [],
   "source": [
    "# for item, param in zip(weights,model.parameters()):\n",
    "#     _tensor = th.from_numpy(item)\n",
    "#     param.data.copy_(_tensor)\n",
    "# modelParams = [model_param.data for model_param in model.parameters()]"
   ]
  },
  {
   "cell_type": "code",
   "execution_count": 88,
   "metadata": {},
   "outputs": [],
   "source": [
    "def get_average_over_examples(activations, total_examples):\n",
    "    reduced_sum = th.sum(activations, dim=0)#reduce(th.add, activations)\n",
    "    return th.div(reduced_sum, total_examples)\n",
    "\n",
    "\n",
    "def training_plan(X, y, batch_size, lr, model_params):\n",
    "    model.train()\n",
    "    \n",
    "    # inject params into model\n",
    "    set_model_params(model, model_params)\n",
    "    \n",
    "    \n",
    "    logits, activations = model.forward(X)\n",
    "    loss = softmax_cross_entropy_with_logits(logits, y, batch_size)\n",
    "    \n",
    "#     l2_penalty = 0.001 * sum([(p**2).sum() for p in model_params])\n",
    "#     loss_with_penalty = loss + l2_penalty\n",
    "#     print(type(loss))\n",
    "    loss.backward()\n",
    "    \n",
    "    updated_params = [\n",
    "        naive_sgd(param, lr=lr)\n",
    "        for param in model_params\n",
    "    ]\n",
    "        \n",
    "#     gradients = [th.max(param.grad) for param in model_params]\n",
    "#     np.set_printoptions(threshold=np.inf)\n",
    "# #     np_weights = np.array(gradients)\n",
    "#     np.save('gradients_1', gradients)\n",
    "\n",
    "    # accuracy\n",
    "    pred = th.argmax(logits, dim=1)\n",
    "    target = th.argmax(y, dim=1)\n",
    "    acc = pred.eq(target).sum()/ batch_size\n",
    "    \n",
    "#     print(\"Acc:\", acc)\n",
    "    \n",
    "    avg_act_over_examples = get_average_over_examples(activations, list(X.shape)[0])\n",
    "    \n",
    "    \n",
    "    return (\n",
    "        loss,\n",
    "        acc,\n",
    "        logits,\n",
    "        avg_act_over_examples,\n",
    "        *updated_params,        \n",
    "    )\n",
    "\n",
    "def training_plan_small(X, y, batch_size, lr, model_params):\n",
    "    model.train()\n",
    "    \n",
    "    # inject params into model\n",
    "    set_model_params(model, model_params)\n",
    "    \n",
    "    \n",
    "    logits, activations = model.forward(X)\n",
    "    loss = softmax_cross_entropy_with_logits(logits, y, batch_size)\n",
    "\n",
    "    loss.backward()\n",
    "    \n",
    "    updated_params = [\n",
    "        naive_sgd(param, lr=lr)\n",
    "        for param in model_params\n",
    "    ]\n",
    "\n",
    "    # accuracy\n",
    "    pred = th.argmax(logits, dim=1)\n",
    "    target = th.argmax(y, dim=1)\n",
    "    acc = pred.eq(target).sum()/ batch_size\n",
    "    \n",
    "#     print(\"Acc:\", acc)\n",
    "    \n",
    "    avg_act_over_examples = get_average_over_examples(activations, list(X.shape)[0])\n",
    "    \n",
    "    \n",
    "    return (\n",
    "        loss,\n",
    "        acc,\n",
    "        logits,\n",
    "        avg_act_over_examples,\n",
    "        *updated_params,        \n",
    "    )"
   ]
  },
  {
   "cell_type": "code",
   "execution_count": 82,
   "metadata": {},
   "outputs": [],
   "source": [
    "def training_plan_small(X, y, batch_size, lr, model_params):\n",
    "    model_small.train()\n",
    "    \n",
    "    # inject params into model\n",
    "    set_model_params(model_small, model_params)\n",
    "    model_small.float()\n",
    "    \n",
    "    X = Variable(th.tensor(X, dtype=th.float), requires_grad=True)\n",
    "    y = Variable(th.tensor(y, dtype=th.float))\n",
    "    \n",
    "    \n",
    "    logits, activations = model.forward(X)\n",
    "    loss = softmax_cross_entropy_with_logits(logits, y, batch_size)\n",
    "\n",
    "    loss.backward()\n",
    "    \n",
    "    updated_params = [\n",
    "        naive_sgd(param, lr=lr)\n",
    "        for param in model_params\n",
    "    ]\n",
    "\n",
    "    # accuracy\n",
    "    pred = th.argmax(logits, dim=1)\n",
    "    target = th.argmax(y, dim=1)\n",
    "    acc = pred.eq(target).sum()/ batch_size\n",
    "    \n",
    "#     print(\"Acc:\", acc)\n",
    "    \n",
    "    avg_act_over_examples = get_average_over_examples(activations, list(X.shape)[0])\n",
    "    \n",
    "    \n",
    "    return (\n",
    "        loss,\n",
    "        acc,\n",
    "        logits,\n",
    "        avg_act_over_examples,\n",
    "        *updated_params,        \n",
    "    )"
   ]
  },
  {
   "cell_type": "code",
   "execution_count": 83,
   "metadata": {
    "id": "_08r202AetXX"
   },
   "outputs": [],
   "source": [
    "def evaluate_model_plan(X, y, batch_size, model_params):\n",
    "    # Load model params into the model\n",
    "    set_model_params(model, model_params)\n",
    "\n",
    "    model_small.eval()\n",
    "#     model.float()\n",
    "\n",
    "    X = Variable(th.tensor(X, dtype=th.float), requires_grad=True)\n",
    "    y = Variable(th.tensor(y, dtype=th.float))\n",
    "    \n",
    "    # Test\n",
    "    logits, activations = model(X)\n",
    "    preds = th.argmax(logits, dim=1)\n",
    "    target = th.argmax(y, dim=1)\n",
    "    \n",
    "    acc = preds.eq(target).sum().float() / batch_size\n",
    "    loss = softmax_cross_entropy_with_logits(logits, y, batch_size)#cross_entropy_with_logits(logits, y, batch_size)\n",
    "    \n",
    "    print(acc, loss)\n",
    "    \n",
    "    return acc, loss"
   ]
  },
  {
   "cell_type": "code",
   "execution_count": 84,
   "metadata": {
    "colab": {
     "base_uri": "https://localhost:8080/"
    },
    "id": "WWE4Q4qYfU6v",
    "outputId": "1cef7f2d-b1f2-4b87-fb6c-e3c52b6b3dd2"
   },
   "outputs": [
    {
     "name": "stdout",
     "output_type": "stream",
     "text": [
      "tensor(0.0200) tensor(12.4074, grad_fn=<DivBackward0>)\n",
      "Epoch: 0 Loss: tensor(12.4074, grad_fn=<DivBackward0>) Accuracy: tensor(0.0200) len(y_test) 150\n"
     ]
    },
    {
     "name": "stderr",
     "output_type": "stream",
     "text": [
      "/home/aliza16/.local/lib/python3.7/site-packages/ipykernel_launcher.py:8: UserWarning: To copy construct from a tensor, it is recommended to use sourceTensor.clone().detach() or sourceTensor.clone().detach().requires_grad_(True), rather than torch.tensor(sourceTensor).\n",
      "  \n",
      "/home/aliza16/.local/lib/python3.7/site-packages/ipykernel_launcher.py:9: UserWarning: To copy construct from a tensor, it is recommended to use sourceTensor.clone().detach() or sourceTensor.clone().detach().requires_grad_(True), rather than torch.tensor(sourceTensor).\n",
      "  if __name__ == '__main__':\n"
     ]
    },
    {
     "ename": "TypeError",
     "evalue": "unsupported operand type(s) for *: 'Tensor' and 'NoneType'",
     "output_type": "error",
     "traceback": [
      "\u001b[0;31m---------------------------------------------------------------------------\u001b[0m",
      "\u001b[0;31mTypeError\u001b[0m                                 Traceback (most recent call last)",
      "\u001b[0;32m<ipython-input-84-713da5971f00>\u001b[0m in \u001b[0;36m<module>\u001b[0;34m\u001b[0m\n\u001b[1;32m     35\u001b[0m       \u001b[0;32mcontinue\u001b[0m\u001b[0;34m\u001b[0m\u001b[0;34m\u001b[0m\u001b[0m\n\u001b[1;32m     36\u001b[0m \u001b[0;34m\u001b[0m\u001b[0m\n\u001b[0;32m---> 37\u001b[0;31m     \u001b[0mloss\u001b[0m\u001b[0;34m,\u001b[0m \u001b[0macc\u001b[0m\u001b[0;34m,\u001b[0m \u001b[0m_\u001b[0m\u001b[0;34m,\u001b[0m \u001b[0m_\u001b[0m\u001b[0;34m,\u001b[0m  \u001b[0;34m*\u001b[0m\u001b[0mupdatedParams\u001b[0m \u001b[0;34m=\u001b[0m \u001b[0mtraining_plan_small\u001b[0m\u001b[0;34m(\u001b[0m\u001b[0mx_b\u001b[0m\u001b[0;34m,\u001b[0m \u001b[0my_b\u001b[0m\u001b[0;34m,\u001b[0m \u001b[0;36m20\u001b[0m\u001b[0;34m,\u001b[0m \u001b[0mlr\u001b[0m\u001b[0;34m,\u001b[0m \u001b[0mmodel_params_small\u001b[0m\u001b[0;34m)\u001b[0m\u001b[0;34m\u001b[0m\u001b[0;34m\u001b[0m\u001b[0m\n\u001b[0m\u001b[1;32m     38\u001b[0m \u001b[0;34m\u001b[0m\u001b[0m\n\u001b[1;32m     39\u001b[0m     \u001b[0mmodel_params_small\u001b[0m \u001b[0;34m=\u001b[0m \u001b[0mupdatedParams\u001b[0m\u001b[0;34m\u001b[0m\u001b[0;34m\u001b[0m\u001b[0m\n",
      "\u001b[0;32m<ipython-input-82-34ee3e85362a>\u001b[0m in \u001b[0;36mtraining_plan_small\u001b[0;34m(X, y, batch_size, lr, model_params)\u001b[0m\n\u001b[1;32m     17\u001b[0m     updated_params = [\n\u001b[1;32m     18\u001b[0m         \u001b[0mnaive_sgd\u001b[0m\u001b[0;34m(\u001b[0m\u001b[0mparam\u001b[0m\u001b[0;34m,\u001b[0m \u001b[0mlr\u001b[0m\u001b[0;34m=\u001b[0m\u001b[0mlr\u001b[0m\u001b[0;34m)\u001b[0m\u001b[0;34m\u001b[0m\u001b[0;34m\u001b[0m\u001b[0m\n\u001b[0;32m---> 19\u001b[0;31m         \u001b[0;32mfor\u001b[0m \u001b[0mparam\u001b[0m \u001b[0;32min\u001b[0m \u001b[0mmodel_params\u001b[0m\u001b[0;34m\u001b[0m\u001b[0;34m\u001b[0m\u001b[0m\n\u001b[0m\u001b[1;32m     20\u001b[0m     ]\n\u001b[1;32m     21\u001b[0m \u001b[0;34m\u001b[0m\u001b[0m\n",
      "\u001b[0;32m<ipython-input-82-34ee3e85362a>\u001b[0m in \u001b[0;36m<listcomp>\u001b[0;34m(.0)\u001b[0m\n\u001b[1;32m     17\u001b[0m     updated_params = [\n\u001b[1;32m     18\u001b[0m         \u001b[0mnaive_sgd\u001b[0m\u001b[0;34m(\u001b[0m\u001b[0mparam\u001b[0m\u001b[0;34m,\u001b[0m \u001b[0mlr\u001b[0m\u001b[0;34m=\u001b[0m\u001b[0mlr\u001b[0m\u001b[0;34m)\u001b[0m\u001b[0;34m\u001b[0m\u001b[0;34m\u001b[0m\u001b[0m\n\u001b[0;32m---> 19\u001b[0;31m         \u001b[0;32mfor\u001b[0m \u001b[0mparam\u001b[0m \u001b[0;32min\u001b[0m \u001b[0mmodel_params\u001b[0m\u001b[0;34m\u001b[0m\u001b[0;34m\u001b[0m\u001b[0m\n\u001b[0m\u001b[1;32m     20\u001b[0m     ]\n\u001b[1;32m     21\u001b[0m \u001b[0;34m\u001b[0m\u001b[0m\n",
      "\u001b[0;32m<ipython-input-69-8f3d9bd507ee>\u001b[0m in \u001b[0;36mnaive_sgd\u001b[0;34m(param, **kwargs)\u001b[0m\n\u001b[1;32m      1\u001b[0m \u001b[0;32mdef\u001b[0m \u001b[0mnaive_sgd\u001b[0m\u001b[0;34m(\u001b[0m\u001b[0mparam\u001b[0m\u001b[0;34m,\u001b[0m \u001b[0;34m**\u001b[0m\u001b[0mkwargs\u001b[0m\u001b[0;34m)\u001b[0m\u001b[0;34m:\u001b[0m\u001b[0;34m\u001b[0m\u001b[0;34m\u001b[0m\u001b[0m\n\u001b[0;32m----> 2\u001b[0;31m   \u001b[0;32mreturn\u001b[0m \u001b[0mparam\u001b[0m \u001b[0;34m-\u001b[0m \u001b[0mkwargs\u001b[0m\u001b[0;34m[\u001b[0m\u001b[0;34m'lr'\u001b[0m\u001b[0;34m]\u001b[0m \u001b[0;34m*\u001b[0m \u001b[0mparam\u001b[0m\u001b[0;34m.\u001b[0m\u001b[0mgrad\u001b[0m\u001b[0;34m\u001b[0m\u001b[0;34m\u001b[0m\u001b[0m\n\u001b[0m",
      "\u001b[0;31mTypeError\u001b[0m: unsupported operand type(s) for *: 'Tensor' and 'NoneType'"
     ]
    }
   ],
   "source": [
    "torch_accs = []\n",
    "torch_losses = []\n",
    "\n",
    "batch_size = th.tensor([float(20)])\n",
    "lr = th.tensor([0.0003])\n",
    "\n",
    "X = th.tensor(dataX)\n",
    "y = nn.functional.one_hot(th.tensor(dataY), 62)\n",
    "\n",
    "X_test = th.tensor(dataX_test)\n",
    "y_test = nn.functional.one_hot(th.tensor(dataY_test), 62)\n",
    "len_data_y = len(dataY) \n",
    "\n",
    "\n",
    "for e in range(150):\n",
    "  \n",
    "  epoch_acc, epoch_loss = evaluate_model_plan(X_test, y_test, 150, model_params_small)\n",
    "  print(\"Epoch:\", e, \"Loss:\" ,epoch_loss, \"Accuracy:\", epoch_acc, \"len(y_test)\", 150)\n",
    "\n",
    "  batch_losses = []\n",
    "  batch_accs = []\n",
    "  totalBatches = math.ceil(len(dataY)/batch_size)\n",
    "  # totalBatches = 1\n",
    "\n",
    "    \n",
    "  for b in range(totalBatches):\n",
    "    secondIndex = (b + 1) * int(batch_size) if (b + 1) * int(batch_size) <= len_data_y else len_data_y\n",
    "\n",
    "    x_b = X[b * int(batch_size) : secondIndex]\n",
    "    y_b = y[b * int(batch_size) : secondIndex]\n",
    "    \n",
    "#     print(\"Batch \",b+1, y_b.argmax(-1))\n",
    "    \n",
    "    if x_b.shape[0] == 0:\n",
    "      continue\n",
    "    \n",
    "    loss, acc, _, _,  *updatedParams = training_plan_small(x_b, y_b, 20, lr, model_params_small)\n",
    "    \n",
    "    model_params_small = updatedParams\n",
    "    \n",
    "    \n",
    "#     print(f\"Updated parameters for batch {b} {modelParams[7]}\")\n",
    "#     print(\"gradient\", gradient)\n",
    "\n",
    "    batch_accs.append(float(acc))\n",
    "    batch_losses.append(float(loss))\n",
    "\n",
    "#   break\n",
    "    torch_losses.append(epoch_loss)\n",
    "    torch_accs.append(epoch_acc)"
   ]
  },
  {
   "cell_type": "code",
   "execution_count": 47,
   "metadata": {
    "id": "dgZK74kGgD1C"
   },
   "outputs": [],
   "source": [
    "# femnist_stat = pd.read_csv('/content/drive/My Drive/leaf/models/metrics/femnist/femnist_stat.csv')\n",
    "femnist_stat = pd.read_csv('data/metrics_stat.csv')\n",
    "femnist_stat_train = femnist_stat[femnist_stat['set'] == 'test']\n",
    "femnist_loss = list(femnist_stat['loss'])"
   ]
  },
  {
   "cell_type": "code",
   "execution_count": 48,
   "metadata": {
    "colab": {
     "base_uri": "https://localhost:8080/",
     "height": 295
    },
    "id": "nsIbQVlMjb27",
    "outputId": "fc69ff9f-c0e1-4b44-a422-ec337600499f"
   },
   "outputs": [
    {
     "data": {
      "image/png": "[encoded data removed]",
      "text/plain": [
       "<Figure size 432x288 with 1 Axes>"
      ]
     },
     "metadata": {
      "needs_background": "light"
     },
     "output_type": "display_data"
    }
   ],
   "source": [
    "plt.plot(torch_losses)\n",
    "plt.plot(list(femnist_stat_train['loss'])[0:len(torch_losses)])\n",
    "\n",
    "plt.title('Custom (PyTorch) v/s LEAF Loss')\n",
    "plt.ylabel('Loss')\n",
    "plt.xlabel('Round/Epoch')\n",
    "\n",
    "plt.legend(['Custom Implementation (PyTorch)', 'LEAF'], loc='upper right')\n",
    "\n",
    "plt.savefig('custom_v_leaf_femnist_loss')\n",
    "plt.show()"
   ]
  },
  {
   "cell_type": "code",
   "execution_count": 49,
   "metadata": {
    "colab": {
     "base_uri": "https://localhost:8080/",
     "height": 295
    },
    "id": "_Gr-Qh7JjeOb",
    "outputId": "227f481e-e526-47af-a16a-6e6acd9c5970"
   },
   "outputs": [
    {
     "data": {
      "image/png": "[encoded data removed]",
      "text/plain": [
       "<Figure size 432x288 with 1 Axes>"
      ]
     },
     "metadata": {
      "needs_background": "light"
     },
     "output_type": "display_data"
    }
   ],
   "source": [
    "plt.plot(torch_accs)\n",
    "plt.plot(list(femnist_stat_train['accuracy'])[:len(torch_accs)])\n",
    "\n",
    "\n",
    "plt.title('Custom (PyTorch) V/S LEAF - Acc')\n",
    "\n",
    "plt.ylabel('Accuracy')\n",
    "plt.xlabel('Round/Epoch')\n",
    "\n",
    "plt.legend(['Implementation (PyTorch)', 'LEAF'], loc='lower right')\n",
    "\n",
    "plt.savefig('custom_v_leaf_femnist_acc')\n",
    "plt.show()"
   ]
  },
  {
   "cell_type": "code",
   "execution_count": 1,
   "metadata": {
    "id": "tEsJQDtzjjx_"
   },
   "outputs": [
    {
     "ename": "NameError",
     "evalue": "name 'torch_accs' is not defined",
     "output_type": "error",
     "traceback": [
      "\u001b[0;31m---------------------------------------------------------------------------\u001b[0m",
      "\u001b[0;31mNameError\u001b[0m                                 Traceback (most recent call last)",
      "\u001b[0;32m<ipython-input-1-952cab8ce74f>\u001b[0m in \u001b[0;36m<module>\u001b[0;34m\u001b[0m\n\u001b[0;32m----> 1\u001b[0;31m \u001b[0mprint\u001b[0m\u001b[0;34m(\u001b[0m\u001b[0mtorch_accs\u001b[0m\u001b[0;34m)\u001b[0m\u001b[0;34m\u001b[0m\u001b[0;34m\u001b[0m\u001b[0m\n\u001b[0m",
      "\u001b[0;31mNameError\u001b[0m: name 'torch_accs' is not defined"
     ]
    }
   ],
   "source": [
    "print(torch_accs)"
   ]
  },
  {
   "cell_type": "code",
   "execution_count": null,
   "metadata": {},
   "outputs": [],
   "source": []
  }
 ],
 "metadata": {
  "accelerator": "GPU",
  "colab": {
   "collapsed_sections": [],
   "name": "pytorch_custom_vs_leaf.ipynb",
   "provenance": []
  },
  "kernelspec": {
   "display_name": "Python 3",
   "language": "python",
   "name": "python3"
  },
  "language_info": {
   "codemirror_mode": {
    "name": "ipython",
    "version": 3
   },
   "file_extension": ".py",
   "mimetype": "text/x-python",
   "name": "python",
   "nbconvert_exporter": "python",
   "pygments_lexer": "ipython3",
   "version": "3.7.10"
  }
 },
 "nbformat": 4,
 "nbformat_minor": 1
}
